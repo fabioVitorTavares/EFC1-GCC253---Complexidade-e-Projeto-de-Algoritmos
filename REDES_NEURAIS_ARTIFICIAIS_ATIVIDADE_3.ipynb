{
  "nbformat": 4,
  "nbformat_minor": 0,
  "metadata": {
    "colab": {
      "provenance": [],
      "toc_visible": true,
      "mount_file_id": "1e78Lzt9QdnK1W8-OFiYGPmZG7uyD1tYW",
      "authorship_tag": "ABX9TyNurEm5GPK0ZVq9gNvLrgCF",
      "include_colab_link": true
    },
    "kernelspec": {
      "name": "python3",
      "display_name": "Python 3"
    },
    "language_info": {
      "name": "python"
    }
  },
  "cells": [
    {
      "cell_type": "markdown",
      "metadata": {
        "id": "view-in-github",
        "colab_type": "text"
      },
      "source": [
        "<a href=\"https://colab.research.google.com/github/fabioVitorTavares/EFC1-GCC253---Complexidade-e-Projeto-de-Algoritmos/blob/main/REDES_NEURAIS_ARTIFICIAIS_ATIVIDADE_3.ipynb\" target=\"_parent\"><img src=\"https://colab.research.google.com/assets/colab-badge.svg\" alt=\"Open In Colab\"/></a>"
      ]
    },
    {
      "cell_type": "code",
      "source": [
        "import numpy as np\n",
        "import matplotlib.pyplot as plt\n",
        "\n",
        "def sigmoidal(x):\n",
        "    return 1 / (1 + np.exp(-x))\n",
        "\n",
        "def relux(x): \n",
        "    if x >= 0:\n",
        "        return x\n",
        "    return 0"
      ],
      "metadata": {
        "id": "tv2oUuuUDoUL"
      },
      "execution_count": 13,
      "outputs": []
    },
    {
      "cell_type": "markdown",
      "source": [
        "#1. Escreva uma func ̧ao para simular a rede neural."
      ],
      "metadata": {
        "id": "-VhDs4bQDady"
      }
    },
    {
      "cell_type": "code",
      "source": [
        "def rede_neural(entradas, pesos):\n",
        "    soma = 0\n",
        "    for i in range(len(entradas)):\n",
        "        j = entradas[i]\n",
        "        w = pesos[i]\n",
        "        soma += j**(w**i) * sigmoidal(j)        \n",
        "        \n",
        "    \n",
        "    return sigmoidal(soma)"
      ],
      "metadata": {
        "id": "FwpLLj0qDYD-"
      },
      "execution_count": 14,
      "outputs": []
    },
    {
      "cell_type": "markdown",
      "source": [
        "#2. Deduza as equações para calcular o valor do erro por neuronio para todos os neurônios. Escreva a funcão que, dada uma amostra de treinamento e os pesos da rede calcula delta i para cada neuronio."
      ],
      "metadata": {
        "id": "axcZw2EdDnou"
      }
    },
    {
      "cell_type": "code",
      "source": [
        "def delta_i(x, y, pesos):\n",
        "    a1 = np.dot(pesos[0], x)\n",
        "    z1 = sigmoidal(a1)\n",
        "    \n",
        "    a2 = np.dot(pesos[1], z1)\n",
        "    y_hat = sigmoidal(a2)\n",
        "    \n",
        "    variacao_saida = (y_hat - y) * y_hat * (1 - y_hat)\n",
        "    \n",
        "    variacao_interna = np.dot(pesos[1], variacao_saida) * z1 * (1 - z1)\n",
        "    \n",
        "    variacao_entrada = np.dot(pesos[0], variacao_interna) * x * (1 - x)\n",
        "    \n",
        "    return variacao_entrada, variacao_interna, variacao_saida"
      ],
      "metadata": {
        "id": "7gCjQ6BmEHw2"
      },
      "execution_count": 15,
      "outputs": []
    },
    {
      "cell_type": "markdown",
      "source": [
        "#3. Considerando que a matriz de pesos e:"
      ],
      "metadata": {
        "id": "Ito3pn9m2BLc"
      }
    },
    {
      "cell_type": "code",
      "source": [
        "pesos = [\n",
        "    [3,0,0,0],\n",
        "    [-4,1,0,0],\n",
        "    [-1,-3,0,0],\n",
        "    [0,0,2,-10],\n",
        "]\n",
        "\n",
        "x = [0.0, 1.0]\n",
        "y = [0.5, 0.1]\n",
        "erros = []\n",
        "for i in range(len(x)):\n",
        "    erros.append(delta_i(x[i], y[i], pesos))\n",
        "\n",
        "print(erros)"
      ],
      "metadata": {
        "colab": {
          "base_uri": "https://localhost:8080/"
        },
        "id": "bHxb183b17kD",
        "outputId": "02bdfa65-a658-4c5a-ea4d-b5e89b29aac0"
      },
      "execution_count": 16,
      "outputs": [
        {
          "output_type": "stream",
          "name": "stdout",
          "text": [
            "[(0.0, array([ 0.04736511, -0.01184128,  0.        ,  0.        ]), -0.04736510639237634), (0.0, array([ 0.00039777, -0.0005503 ,  0.        ,  0.        ]), -0.0022011859787327915)]\n"
          ]
        }
      ]
    },
    {
      "cell_type": "markdown",
      "source": [
        "#4. Escreva uma função para treinar uma rede neural usando o algoritmo gradient descent."
      ],
      "metadata": {
        "id": "LlgPxMiE4gsK"
      }
    },
    {
      "cell_type": "code",
      "source": [
        "def gradient_descent(X, y, num_neuronios, taxa_aprendizado, num_epocas):\n",
        "\n",
        "    num_amostras, num_caracteristicas = X.shape\n",
        "    pesos = np.random.rand(num_caracteristicas, num_neuronios)\n",
        "    erros = []\n",
        "    for epoca in range(num_epocas):\n",
        "        soma_erros = 0\n",
        "        for i in range(num_amostras):\n",
        "            entrada = X[i]\n",
        "            saida = np.dot(entrada, pesos)\n",
        "            \n",
        "            erro = saida - y[i]\n",
        "            soma_erros += erro\n",
        "            delta_pesos = taxa_aprendizado * erro * entrada.reshape(-1, 1)\n",
        "            pesos -= delta_pesos\n",
        "\n",
        "        \n",
        "        erros.append(soma_erros/num_epocas)\n",
        "    return pesos, erros\n"
      ],
      "metadata": {
        "id": "OURKXgU40AJ0"
      },
      "execution_count": 35,
      "outputs": []
    },
    {
      "cell_type": "markdown",
      "source": [
        "#5. Use uma função para treinar a rede com as seguintes amostras de dados:\n",
        "\n"
      ],
      "metadata": {
        "id": "Xc7JFLYU6LYp"
      }
    },
    {
      "cell_type": "code",
      "source": [
        "x = np.array([-3.0, -2.0, -1.0, -0.5, 0.0, 0.5, 1.0, 1.5, 2.0, 3.0])\n",
        "y = np.array([0.73212, 0.7339, 0.7838, 0.8903, 0.9820, 0.8114, 0.5937, 0.5219, 0.5049, 0.5002])\n",
        "\n",
        "x_norm = (x - np.mean(x)) / np.std(x)\n",
        "y_norm = (y - np.mean(y)) / np.std(y)\n",
        "\n",
        "num_neuronios = 10\n",
        "taxa_aprendizado = 0.01\n",
        "num_epocas = 100\n",
        "epocas = np.array(list(range(1, 101)))\n",
        "pesos, erros = gradient_descent(x_norm.reshape(-1, 1), y_norm, num_neuronios, taxa_aprendizado, num_epocas)\n",
        "\n",
        "plt.plot(epocas, erros)\n",
        "plt.xlabel('Época')\n",
        "plt.ylabel('Erro')\n",
        "plt.title('Evolução do erro durante o treinamento')\n",
        "plt.show()\n",
        "print(\"Pesos aprendidos pela rede neural:\")\n",
        "print(pesos)"
      ],
      "metadata": {
        "colab": {
          "base_uri": "https://localhost:8080/",
          "height": 349
        },
        "id": "MvQmLFqS6ZlK",
        "outputId": "68525fd7-10ac-4517-98c1-cd46cafde829"
      },
      "execution_count": 40,
      "outputs": [
        {
          "output_type": "display_data",
          "data": {
            "text/plain": [
              "<Figure size 432x288 with 1 Axes>"
            ],
            "image/png": "[encoded data removed]"
          },
          "metadata": {
            "needs_background": "light"
          }
        },
        {
          "output_type": "stream",
          "name": "stdout",
          "text": [
            "Pesos aprendidos pela rede neural:\n",
            "[[-0.59889166 -0.59891014 -0.59889681 -0.59892622 -0.59890629 -0.59889112\n",
            "  -0.59889865 -0.59889705 -0.5989121  -0.59889762]]\n"
          ]
        }
      ]
    }
  ]
}