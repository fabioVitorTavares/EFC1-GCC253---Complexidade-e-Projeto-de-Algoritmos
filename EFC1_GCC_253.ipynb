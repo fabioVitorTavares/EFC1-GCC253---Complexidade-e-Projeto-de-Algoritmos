{
  "nbformat": 4,
  "nbformat_minor": 0,
  "metadata": {
    "colab": {
      "name": "EFC1_GCC_253.ipynb",
      "provenance": [],
      "collapsed_sections": [
        "vk4vOTkKyLB-"
      ],
      "include_colab_link": true
    },
    "kernelspec": {
      "name": "python3",
      "display_name": "Python 3"
    },
    "language_info": {
      "name": "python"
    },
    "gpuClass": "standard"
  },
  "cells": [
    {
      "cell_type": "markdown",
      "metadata": {
        "id": "view-in-github",
        "colab_type": "text"
      },
      "source": [
        "<a href=\"https://colab.research.google.com/github/fabioVitorTavares/EFC1-GCC253---Complexidade-e-Projeto-de-Algoritmos/blob/main/EFC1_GCC_253.ipynb\" target=\"_parent\"><img src=\"https://colab.research.google.com/assets/colab-badge.svg\" alt=\"Open In Colab\"/></a>"
      ]
    },
    {
      "cell_type": "markdown",
      "source": [
        "# EFC1 GCC253 - Complexidade e Projeto de Algoritmos\n",
        "\n",
        "\n",
        "> **Prof.: Douglas H. S. Abreu**\n",
        "\n",
        "\n",
        "**Aluno**: Fábio Vitor Tavares Furtado\n",
        "\n",
        "**Matricula**: 201811178\n",
        "\n",
        "**Turma**: 14A\n",
        "\n",
        "Link do repositório GitHub: https://github.com/fabioVitorTavares/EFC1-GCC253---Complexidade-e-Projeto-de-Algoritmos\n",
        "\n",
        "● O trabalho deve ser feito em grupos de no máximo 2 componentes (todos devem enviar a atividade no Campus Virtual)\n",
        "\n",
        "● Trabalhos entregues após a data limite não serão aceitos\n",
        "\n",
        "● Data limite de entrega: 24 de Julho de 2022 : 23h55m\n",
        "\n",
        "● Enviar o trabalho para o campus virtual, do seguinte modo: link do repositório GitHub e do Colab para acesso ao Notebook. A Documentação deve estar no readme\n",
        "\n",
        "● O trabalho deve ser desenvolvido no modelo Notebook utilizando a linguagem Python"
      ],
      "metadata": {
        "id": "XAdlKnDBj5uB"
      }
    },
    {
      "cell_type": "markdown",
      "source": [
        "# Importações e Variáveis globais"
      ],
      "metadata": {
        "id": "J3d6JlRUxREN"
      }
    },
    {
      "cell_type": "code",
      "source": [
        "import numpy\n",
        "import time\n",
        "import matplotlib.pyplot as plt\n",
        "import sys\n",
        "sys.setrecursionlimit(1000000)\n",
        "\n",
        "global_1=0\n",
        "\n",
        "#Quantidade de arrays\n",
        "quantidadeArray = 200\n",
        "\n",
        "#Intervalo dos números randomicos\n",
        "intervalo = 500\n",
        "\n",
        "\n",
        "\n"
      ],
      "metadata": {
        "id": "Ur1DVGQAxac4"
      },
      "execution_count": 28,
      "outputs": []
    },
    {
      "cell_type": "markdown",
      "source": [
        "# Funções de Ordenação\n",
        "\n",
        "> Utilize este espaço para definir as funções de ordenação vista em sala de aula\n",
        "\n"
      ],
      "metadata": {
        "id": "kPNpzNYwkKAO"
      }
    },
    {
      "cell_type": "markdown",
      "source": [
        "##  Insertion Sort\n"
      ],
      "metadata": {
        "id": "nEw1UEsmoKMg"
      }
    },
    {
      "cell_type": "code",
      "source": [
        "def insertionSort(array):\n",
        "    c =  0\n",
        "    ti = time.time();\n",
        "    for i in range(1, len(array)):        \n",
        "        chave = array[i]\n",
        "        j = i-1\n",
        "        c += 1\n",
        "        while array[j] > chave and j > -1:\n",
        "            c += 1\n",
        "            array[j+1] = array[j]\n",
        "            j = j-1          \n",
        "        array[j+1] = chave       \n",
        "    return time.time() - ti, c"
      ],
      "metadata": {
        "id": "kbOrhdB-j_px"
      },
      "execution_count": 30,
      "outputs": []
    },
    {
      "cell_type": "markdown",
      "source": [
        "##  Merge Sort\n"
      ],
      "metadata": {
        "id": "9a-wJwU-wtmQ"
      }
    },
    {
      "cell_type": "code",
      "source": [
        "def merge(arr, c):    \n",
        "    if(len(arr) > 1):        \n",
        "        arrE = arr[:int(len(arr)/2)]\n",
        "        arrD = arr[int(len(arr)/2):]       \n",
        "        arrE = merge(arrE, c)\n",
        "        arrD = merge(arrD, c)\n",
        "        arr = sort(arrE, arrD, c)        \n",
        "        return arr\n",
        "    return arr    \n",
        "\n",
        "\n",
        "def sort(arrE,arrD, c):   \n",
        "    arrO = []\n",
        "    while len(arrE) > 0 and len(arrD) > 0:\n",
        "        c[0] += 1           \n",
        "        if arrE[0] < arrD[0]:\n",
        "            arrO.append(arrE[0])\n",
        "            arrE = arrE[1:]\n",
        "        else:\n",
        "            arrO.append(arrD[0])\n",
        "            arrD = arrD[1:]    \n",
        "    while len(arrE) > 0:        \n",
        "        arrO.append(arrE[0])\n",
        "        arrE = arrE[1:]\n",
        "    while len(arrD) > 0:          \n",
        "        arrO.append(arrD[0])\n",
        "        arrD = arrD[1:]   \n",
        "    return arrO\n",
        "\n",
        "\n",
        "def mergeSort(arr):\n",
        "    c = [0]    \n",
        "    ti = time.time()\n",
        "    merge(arr, c)\n",
        "    return time.time() - ti, c[0]"
      ],
      "metadata": {
        "id": "8cgIJ_4EwbPN"
      },
      "execution_count": 31,
      "outputs": []
    },
    {
      "cell_type": "markdown",
      "source": [
        "##  Selection Sort\n"
      ],
      "metadata": {
        "id": "8dWpeYUvw-wU"
      }
    },
    {
      "cell_type": "code",
      "source": [
        "def selectionSort(array):\n",
        "    c = 0\n",
        "    ti = time.time();    \n",
        "    for i in range(len(array)):        \n",
        "        for j in range(i+1,len(array)):\n",
        "            c += 1\n",
        "            if(array[j] < array[i]):\n",
        "                array[i], array[j] = array[j], array[i]   \n",
        "    return time.time() - ti, c   "
      ],
      "metadata": {
        "id": "vNgUDShawygu"
      },
      "execution_count": 32,
      "outputs": []
    },
    {
      "cell_type": "markdown",
      "source": [
        "##  Bubble Sort\n"
      ],
      "metadata": {
        "id": "zNI1kX0yyDrs"
      }
    },
    {
      "cell_type": "code",
      "source": [
        "def boobleSort(arr):\n",
        "    c = 0\n",
        "    ti = time.time()\n",
        "    trocou = True\n",
        "    for i in range(len(arr)-1):        \n",
        "        if(trocou):\n",
        "            trocou = False\n",
        "            for j in range(len(arr)-i-1):\n",
        "                c += 1\n",
        "                if (arr[j] > arr[j+1]):\n",
        "                    arr[j],arr[j+1] = arr[j+1], arr[j]\n",
        "                    trocou = True\n",
        "    return time.time() - ti, c"
      ],
      "metadata": {
        "id": "6X_zk1yWxMQS"
      },
      "execution_count": 33,
      "outputs": []
    },
    {
      "cell_type": "markdown",
      "source": [
        "## Heap Sort"
      ],
      "metadata": {
        "id": "vk4vOTkKyLB-"
      }
    },
    {
      "cell_type": "code",
      "source": [
        "def heapSort():\n",
        "  \n",
        "  return"
      ],
      "metadata": {
        "id": "39a7xXzLyH9g"
      },
      "execution_count": null,
      "outputs": []
    },
    {
      "cell_type": "markdown",
      "source": [
        "## Quick Sort\n",
        "\n",
        "> pivo = *A[A-comprimento]*"
      ],
      "metadata": {
        "id": "fFiGho5CyU3t"
      }
    },
    {
      "cell_type": "code",
      "source": [
        "def particao(arr, ini, fim, c):    \n",
        "    pivo = arr[fim]\n",
        "    me = ini-1\n",
        "    ma = ini-1\n",
        "    for i in range(ini, fim+1):\n",
        "        c[0] += 1       \n",
        "        if arr[i] > pivo:\n",
        "            \n",
        "            ma += 1\n",
        "        else:\n",
        "            me += 1\n",
        "            ma += 1\n",
        "            arr[ma], arr[me] = arr[me], arr[ma]\n",
        "    return me, c[0]\n",
        "\n",
        "def quick(arr, ini, fim, c):     \n",
        "    c[0] += 1\n",
        "    if ini < fim:\n",
        "        var = particao(arr, ini, fim, c)\n",
        "        pp, c[0] = var[0], var[1]\n",
        "        numeroComparacoes = quick(arr, ini, pp-1, c)\n",
        "        numeroComparacoes = quick(arr, pp+1, fim, c)\n",
        "    \n",
        "    return c[0]\n",
        "\n",
        "    \n",
        "\n",
        "def quickSort(arr):\n",
        "    c = [0]\n",
        "    ti = time.time()\n",
        "    c[0] = quick(arr, 0, len(arr)-1, c)\n",
        "    return time.time() - ti, c[0]"
      ],
      "metadata": {
        "id": "1Ie_N5CRyKY7",
        "colab": {
          "base_uri": "https://localhost:8080/",
          "height": 632
        },
        "outputId": "23a1c37e-9b9b-4ad3-e7f4-cb6cfc3a4f17"
      },
      "execution_count": 38,
      "outputs": [
        {
          "output_type": "stream",
          "name": "stdout",
          "text": [
            "[23, 73, 148, 248, 373, 523, 698, 898, 1123, 1373, 1648, 1948, 2273, 2623, 2998, 3398, 3823, 4273, 4748, 5248, 5773, 6323, 6898, 7498, 8123, 8773, 9448, 10148, 10873, 11623, 12398, 13198, 14023, 14873, 15748, 16648, 17573, 18523, 19498, 20498, 21523, 22573, 23648, 24748, 25873, 27023, 28198, 29398, 30623, 31873, 33148, 34448, 35773, 37123, 38498, 39898, 41323, 42773, 44248, 45748, 47273, 48823, 50398, 51998, 53623, 55273, 56948, 58648, 60373, 62123, 63898, 65698, 67523, 69373, 71248, 73148, 75073, 77023, 78998, 80998, 83023, 85073, 87148, 89248, 91373, 93523, 95698, 97898, 100123, 102373, 104648, 106948, 109273, 111623, 113998, 116398, 118823, 121273, 123748, 126248, 128773, 131323, 133898, 136498, 139123, 141773, 144448, 147148, 149873, 152623, 155398, 158198, 161023, 163873, 166748, 169648, 172573, 175523, 178498, 181498, 184523, 187573, 190648, 193748, 196873, 200023, 203198, 206398, 209623, 212873, 216148, 219448, 222773, 226123, 229498, 232898, 236323, 239773, 243248, 246748, 250273, 253823, 257398, 260998, 264623, 268273, 271948, 275648, 279373, 283123, 286898, 290698, 294523, 298373, 302248, 306148, 310073, 314023, 317998, 321998, 326023, 330073, 334148, 338248, 342373, 346523, 350698, 354898, 359123, 363373, 367648, 371948, 376273, 380623, 384998, 389398, 393823, 398273, 402748, 407248, 411773, 416323, 420898, 425498, 430123, 434773, 439448, 444148, 448873, 453623, 458398, 463198, 468023, 472873, 477748, 482648, 487573, 492523, 497498]\n",
            "[23, 73, 148, 248, 373, 523, 698, 898, 1123, 1373, 1648, 1948, 2273, 2623, 2998, 3398, 3823, 4273, 4748, 5248, 5773, 6323, 6898, 7498, 8123, 8773, 9448, 10148, 10873, 11623, 12398, 13198, 14023, 14873, 15748, 16648, 17573, 18523, 19498, 20498, 21523, 22573, 23648, 24748, 25873, 27023, 28198, 29398, 30623, 31873, 33148, 34448, 35773, 37123, 38498, 39898, 41323, 42773, 44248, 45748, 47273, 48823, 50398, 51998, 53623, 55273, 56948, 58648, 60373, 62123, 63898, 65698, 67523, 69373, 71248, 73148, 75073, 77023, 78998, 80998, 83023, 85073, 87148, 89248, 91373, 93523, 95698, 97898, 100123, 102373, 104648, 106948, 109273, 111623, 113998, 116398, 118823, 121273, 123748, 126248, 128773, 131323, 133898, 136498, 139123, 141773, 144448, 147148, 149873, 152623, 155398, 158198, 161023, 163873, 166748, 169648, 172573, 175523, 178498, 181498, 184523, 187573, 190648, 193748, 196873, 200023, 203198, 206398, 209623, 212873, 216148, 219448, 222773, 226123, 229498, 232898, 236323, 239773, 243248, 246748, 250273, 253823, 257398, 260998, 264623, 268273, 271948, 275648, 279373, 283123, 286898, 290698, 294523, 298373, 302248, 306148, 310073, 314023, 317998, 321998, 326023, 330073, 334148, 338248, 342373, 346523, 350698, 354898, 359123, 363373, 367648, 371948, 376273, 380623, 384998, 389398, 393823, 398273, 402748, 407248, 411773, 416323, 420898, 425498, 430123, 434773, 439448, 444148, 448873, 453623, 458398, 463198, 468023, 472873, 477748, 482648, 487573, 492523, 497498]\n"
          ]
        },
        {
          "output_type": "display_data",
          "data": {
            "text/plain": [
              "<Figure size 432x288 with 1 Axes>"
            ],
            "image/png": "[encoded data removed]"
          },
          "metadata": {
            "needs_background": "light"
          }
        },
        {
          "output_type": "display_data",
          "data": {
            "text/plain": [
              "<Figure size 432x288 with 1 Axes>"
            ],
            "image/png": "[encoded data removed]"
          },
          "metadata": {
            "needs_background": "light"
          }
        }
      ]
    },
    {
      "cell_type": "markdown",
      "source": [
        "# Questões"
      ],
      "metadata": {
        "id": "VomdAnCrzEv1"
      }
    },
    {
      "cell_type": "markdown",
      "source": [
        "\n",
        "\n",
        "1.   Dado um conjunto de arranjos ***A[5,...,1000, passo=5]***\n",
        "\n",
        "> a) Defina o melhor e pior caso para cada um dos algoritmos definidos acima, crie vetores ***A*** para estes casos e faça a comparação gráficamente também com casos aleatórios (plote um gráfico para cada algoritmo). Conte o numero de comparações realzizadas para cada uma das execuções.\n",
        "\n",
        "> b) Repita o procedimento acima. Porém compare os algoritmos para pior e melhor caso e também casos aleatórios.\n",
        "\n",
        "> c) Qual é o comportamento assintótico para cada um dos algorítmos acima (melhor caso e pior caso, se puder, analise também em casos aleatórios)\n",
        "\n",
        "\n",
        "\n",
        "**Obs.:** para os algoritmos QuickSort e Merge Sort mostre apenas um melhor e um pior caso. faça a comparação com os demais métodos com o conjunto ***A*** apenas em casos aleatórios.\n",
        "\n",
        "\n",
        "\n"
      ],
      "metadata": {
        "id": "3QKV979kzItD"
      }
    },
    {
      "cell_type": "markdown",
      "source": [
        "Insertion Sort\n",
        "\n",
        "    Melhor caso: No insertion sort o melhor caso acontece quando o vetor já está ordenado, a cada posição percorrida ele compara a posição atual com a anterior e como ela é menor que a atual ele não entra no laço e continua a iteração pelo vetor.\n",
        "\n",
        "    Pior caso: O pior caso acontece quando o vetor está ordenado de forma contrária à que se deseja ordenar, pois a cada posição percorrida pelo laço principal também se percorre no laço interno da posição atual à posição zero do vetor.\n",
        "\n",
        "Merge Sort\n",
        "\n",
        "    Melhor caso:\n",
        "\n",
        "    Pior caso:\n",
        "\n",
        "Selection Sort\n",
        "\n",
        "    Melhor caso:\n",
        "\n",
        "    Pior caso:\n",
        "\n",
        "Buble Sort\n",
        "\n",
        "    Melhor caso:\n",
        "\n",
        "    Pior caso:\n",
        "\n",
        "Heap Sort\n",
        "\n",
        "    Melhor caso:\n",
        "\n",
        "    Pior caso:\n",
        "\n",
        "Quick Sort\n",
        "\n",
        "    Melhor caso:\n",
        "\n",
        "    Pior caso:"
      ],
      "metadata": {
        "id": "rmlOMfPgRbOi"
      }
    },
    {
      "cell_type": "code",
      "source": [
        ""
      ],
      "metadata": {
        "id": "8IWIObzGRaog"
      },
      "execution_count": null,
      "outputs": []
    },
    {
      "cell_type": "markdown",
      "source": [
        "2.   Desenvolda uma versão aleatorizada do QUICKSORT (pivo aleatório) e compare com a versão apresentada em sala de aula e definida acima.\n",
        "\n"
      ],
      "metadata": {
        "id": "9hhEkQam21NC"
      }
    },
    {
      "cell_type": "code",
      "source": [
        "    \n",
        "\n",
        "timesArrayOrdenadoCrescente = []\n",
        "timesArrayAleatorio = []\n",
        "timesArrayOrdenadoDecrescente = []\n",
        "comparacoesArrayOrdenadoCrescente = []\n",
        "comparacoesArrayAleatorio = []\n",
        "comparacoesArrayOrdenadoDecrescente = []\n",
        "numeroEntradas = []\n",
        "\n",
        "\n",
        "for i in range(5,1000,5):\n",
        "    timesArrayOrdenadoCrescente.append(quickSort(numpy.arange(0,i,1))[0])\n",
        "    timesArrayAleatorio.append(quickSort(numpy.random.randint(0, intervalo, i))[0])\n",
        "    timesArrayOrdenadoDecrescente.append(quickSort(numpy.arange(i-1,-1,-1))[0])\n",
        "    comparacoesArrayOrdenadoCrescente.append(quickSort(numpy.arange(0,i,1))[1])\n",
        "    comparacoesArrayAleatorio.append(quickSort(numpy.random.randint(0, intervalo, i))[1])\n",
        "    comparacoesArrayOrdenadoDecrescente.append(quickSort(numpy.arange(i-1,-1,-1))[1])\n",
        "    numeroEntradas.append(i)\n",
        "\n",
        "print(comparacoesArrayOrdenadoCrescente)\n",
        "print(comparacoesArrayOrdenadoDecrescente)\n",
        "\n",
        "\n",
        "plt.title(\"TEMPOS DE EXECUÇÃO QUICK SORT\")\n",
        "plt.plot(numeroEntradas,timesArrayOrdenadoCrescente, color='green')\n",
        "plt.plot(numeroEntradas,timesArrayAleatorio,color='blue')\n",
        "plt.plot(numeroEntradas,timesArrayOrdenadoDecrescente, color='red')\n",
        "plt.legend(['CRESCENTE','ALEATÓRIO','DECRESCENTE'], title = \"LEGENDA\")\n",
        "plt.grid(True)\n",
        "plt.xlabel(\"NÚMERO DE ENTRADAS\")\n",
        "plt.ylabel(\"TEMPO\")\n",
        "plt.show()\n",
        "\n",
        "\n",
        "plt.title(\"NÚMERO DE COMPARAÇÕES QUICK SORT\")\n",
        "plt.plot(numeroEntradas,comparacoesArrayOrdenadoCrescente, color='green')\n",
        "plt.plot(numeroEntradas,comparacoesArrayAleatorio,color='blue')\n",
        "plt.plot(numeroEntradas,comparacoesArrayOrdenadoDecrescente, color='red')\n",
        "plt.legend(['CRESCENTE','ALEATÓRIO','DECRESCENTE'], title = \"LEGENDA\")\n",
        "plt.grid(True)\n",
        "plt.xlabel(\"NÚMERO DE ENTRADAS\")\n",
        "plt.ylabel(\"NÚMERO DE COMPARAÇÕES\")\n",
        "plt.show()"
      ],
      "metadata": {
        "id": "nBfs279_1Vko"
      },
      "execution_count": null,
      "outputs": []
    }
  ]
}