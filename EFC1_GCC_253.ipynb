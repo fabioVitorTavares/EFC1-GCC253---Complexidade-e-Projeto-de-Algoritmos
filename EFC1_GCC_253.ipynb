{
  "nbformat": 4,
  "nbformat_minor": 0,
  "metadata": {
    "colab": {
      "name": "EFC1_GCC_253.ipynb",
      "provenance": [],
      "collapsed_sections": [
        "kPNpzNYwkKAO",
        "nEw1UEsmoKMg",
        "9a-wJwU-wtmQ",
        "8dWpeYUvw-wU",
        "zNI1kX0yyDrs",
        "vk4vOTkKyLB-"
      ],
      "toc_visible": true,
      "include_colab_link": true
    },
    "kernelspec": {
      "name": "python3",
      "display_name": "Python 3"
    },
    "language_info": {
      "name": "python"
    }
  },
  "cells": [
    {
      "cell_type": "markdown",
      "metadata": {
        "id": "view-in-github",
        "colab_type": "text"
      },
      "source": [
        "<a href=\"https://colab.research.google.com/github/fabioVitorTavares/EFC1-GCC253---Complexidade-e-Projeto-de-Algoritmos/blob/main/EFC1_GCC_253.ipynb\" target=\"_parent\"><img src=\"https://colab.research.google.com/assets/colab-badge.svg\" alt=\"Open In Colab\"/></a>"
      ]
    },
    {
      "cell_type": "markdown",
      "source": [
        "# EFC1 GCC253 - Complexidade e Projeto de Algoritmos\n",
        "\n",
        "\n",
        "> **Prof.: Douglas H. S. Abreu**\n",
        "\n",
        "\n",
        "**Aluno**: Fábio Vitor Tavares Furtado\n",
        "\n",
        "**Matricula**: 201811178\n",
        "\n",
        "**Turma**: 14A\n",
        "\n",
        "Link do repositório GitHub: https://github.com/fabioVitorTavares/EFC1-GCC253---Complexidade-e-Projeto-de-Algoritmos\n",
        "\n",
        "● O trabalho deve ser feito em grupos de no máximo 2 componentes (todos devem enviar a atividade no Campus Virtual)\n",
        "\n",
        "● Trabalhos entregues após a data limite não serão aceitos\n",
        "\n",
        "● Data limite de entrega: 24 de Julho de 2022 : 23h55m\n",
        "\n",
        "● Enviar o trabalho para o campus virtual, do seguinte modo: link do repositório GitHub e do Colab para acesso ao Notebook. A Documentação deve estar no readme\n",
        "\n",
        "● O trabalho deve ser desenvolvido no modelo Notebook utilizando a linguagem Python"
      ],
      "metadata": {
        "id": "XAdlKnDBj5uB"
      }
    },
    {
      "cell_type": "markdown",
      "source": [
        "# Importações e Variáveis globais"
      ],
      "metadata": {
        "id": "J3d6JlRUxREN"
      }
    },
    {
      "cell_type": "code",
      "source": [
        "import numpy as np\n",
        "\n",
        "global_1=0"
      ],
      "metadata": {
        "id": "Ur1DVGQAxac4"
      },
      "execution_count": null,
      "outputs": []
    },
    {
      "cell_type": "markdown",
      "source": [
        "# Funções de Ordenação\n",
        "\n",
        "> Utilize este espaço para definir as funções de ordenação vista em sala de aula\n",
        "\n"
      ],
      "metadata": {
        "id": "kPNpzNYwkKAO"
      }
    },
    {
      "cell_type": "markdown",
      "source": [
        "##  Insertion Sort\n"
      ],
      "metadata": {
        "id": "nEw1UEsmoKMg"
      }
    },
    {
      "cell_type": "code",
      "source": [
        "def insertionSort():\n",
        "  \n",
        "  return"
      ],
      "metadata": {
        "id": "kbOrhdB-j_px"
      },
      "execution_count": null,
      "outputs": []
    },
    {
      "cell_type": "markdown",
      "source": [
        "##  Merge Sort\n"
      ],
      "metadata": {
        "id": "9a-wJwU-wtmQ"
      }
    },
    {
      "cell_type": "code",
      "source": [
        "def mergeSort():\n",
        "  \n",
        "  return"
      ],
      "metadata": {
        "id": "8cgIJ_4EwbPN"
      },
      "execution_count": null,
      "outputs": []
    },
    {
      "cell_type": "markdown",
      "source": [
        "##  Selection Sort\n"
      ],
      "metadata": {
        "id": "8dWpeYUvw-wU"
      }
    },
    {
      "cell_type": "code",
      "source": [
        "def selectionSort():\n",
        "  \n",
        "  return"
      ],
      "metadata": {
        "id": "vNgUDShawygu"
      },
      "execution_count": null,
      "outputs": []
    },
    {
      "cell_type": "markdown",
      "source": [
        "##  Bubble Sort\n"
      ],
      "metadata": {
        "id": "zNI1kX0yyDrs"
      }
    },
    {
      "cell_type": "code",
      "source": [
        "def bubbleSort():\n",
        "  \n",
        "  return"
      ],
      "metadata": {
        "id": "6X_zk1yWxMQS"
      },
      "execution_count": null,
      "outputs": []
    },
    {
      "cell_type": "markdown",
      "source": [
        "## Heap Sort"
      ],
      "metadata": {
        "id": "vk4vOTkKyLB-"
      }
    },
    {
      "cell_type": "code",
      "source": [
        "def heapSort():\n",
        "  \n",
        "  return"
      ],
      "metadata": {
        "id": "39a7xXzLyH9g"
      },
      "execution_count": null,
      "outputs": []
    },
    {
      "cell_type": "markdown",
      "source": [
        "## Quick Sort\n",
        "\n",
        "> pivo = *A[A-comprimento]*"
      ],
      "metadata": {
        "id": "fFiGho5CyU3t"
      }
    },
    {
      "cell_type": "code",
      "source": [
        "def quickSort():\n",
        "  \n",
        "  return"
      ],
      "metadata": {
        "id": "1Ie_N5CRyKY7"
      },
      "execution_count": null,
      "outputs": []
    },
    {
      "cell_type": "markdown",
      "source": [
        "# Questões"
      ],
      "metadata": {
        "id": "VomdAnCrzEv1"
      }
    },
    {
      "cell_type": "markdown",
      "source": [
        "\n",
        "\n",
        "1.   Dado um conjunto de arranjos ***A[5,...,1000, passo=5]***\n",
        "\n",
        "> a) Defina o melhor e pior caso para cada um dos algoritmos definidos acima, crie vetores ***A*** para estes casos e faça a comparação gráficamente também com casos aleatórios (plote um gráfico para cada algoritmo). Conte o numero de comparações realzizadas para cada uma das execuções.\n",
        "\n",
        "> b) Repita o procedimento acima. Porém compare os algoritmos para pior e melhor caso e também casos aleatórios.\n",
        "\n",
        "> c) Qual é o comportamento assintótico para cada um dos algorítmos acima (melhor caso e pior caso, se puder, analise também em casos aleatórios)\n",
        "\n",
        "\n",
        "\n",
        "**Obs.:** para os algoritmos QuickSort e Merge Sort mostre apenas um melhor e um pior caso. faça a comparação com os demais métodos com o conjunto ***A*** apenas em casos aleatórios.\n",
        "\n",
        "\n",
        "\n"
      ],
      "metadata": {
        "id": "3QKV979kzItD"
      }
    },
    {
      "cell_type": "markdown",
      "source": [
        "2.   Desenvolda uma versão aleatorizada do QUICKSORT (pivo aleatório) e compare com a versão apresentada em sala de aula e definida acima.\n",
        "\n"
      ],
      "metadata": {
        "id": "9hhEkQam21NC"
      }
    },
    {
      "cell_type": "code",
      "source": [
        "print(\"Boa sorte!!!\")"
      ],
      "metadata": {
        "colab": {
          "base_uri": "https://localhost:8080/"
        },
        "id": "nBfs279_1Vko",
        "outputId": "6a6e86cf-5b1e-4176-a1a5-93bfb4ded319"
      },
      "execution_count": null,
      "outputs": [
        {
          "output_type": "stream",
          "name": "stdout",
          "text": [
            "Boa sorte!!!\n"
          ]
        }
      ]
    }
  ]
}